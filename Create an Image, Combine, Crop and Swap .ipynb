{
 "cells": [
  {
   "cell_type": "markdown",
   "id": "67513464",
   "metadata": {},
   "source": [
    "# Function To Display Any Image"
   ]
  },
  {
   "cell_type": "code",
   "execution_count": 1,
   "id": "b90e94e1",
   "metadata": {},
   "outputs": [],
   "source": [
    "def display(name, image):\n",
    "    cv2.imshow(name, image)\n",
    "    cv2.waitKey()\n",
    "    cv2.destroyAllWindows()"
   ]
  },
  {
   "cell_type": "code",
   "execution_count": null,
   "id": "ed21dca3",
   "metadata": {},
   "outputs": [],
   "source": []
  },
  {
   "cell_type": "markdown",
   "id": "e62535bf",
   "metadata": {},
   "source": [
    "# Let's Create An Image !!"
   ]
  },
  {
   "cell_type": "code",
   "execution_count": null,
   "id": "0e44ccdc",
   "metadata": {},
   "outputs": [],
   "source": []
  },
  {
   "cell_type": "code",
   "execution_count": 2,
   "id": "6dd2aaee",
   "metadata": {},
   "outputs": [],
   "source": [
    "import numpy"
   ]
  },
  {
   "cell_type": "code",
   "execution_count": 3,
   "id": "b5fce8db",
   "metadata": {},
   "outputs": [],
   "source": [
    "image=numpy.zeros(((500,500,3)))"
   ]
  },
  {
   "cell_type": "code",
   "execution_count": 4,
   "id": "f84cf339",
   "metadata": {},
   "outputs": [
    {
     "data": {
      "text/plain": [
       "array([[[0., 0., 0.],\n",
       "        [0., 0., 0.],\n",
       "        [0., 0., 0.],\n",
       "        ...,\n",
       "        [0., 0., 0.],\n",
       "        [0., 0., 0.],\n",
       "        [0., 0., 0.]],\n",
       "\n",
       "       [[0., 0., 0.],\n",
       "        [0., 0., 0.],\n",
       "        [0., 0., 0.],\n",
       "        ...,\n",
       "        [0., 0., 0.],\n",
       "        [0., 0., 0.],\n",
       "        [0., 0., 0.]],\n",
       "\n",
       "       [[0., 0., 0.],\n",
       "        [0., 0., 0.],\n",
       "        [0., 0., 0.],\n",
       "        ...,\n",
       "        [0., 0., 0.],\n",
       "        [0., 0., 0.],\n",
       "        [0., 0., 0.]],\n",
       "\n",
       "       ...,\n",
       "\n",
       "       [[0., 0., 0.],\n",
       "        [0., 0., 0.],\n",
       "        [0., 0., 0.],\n",
       "        ...,\n",
       "        [0., 0., 0.],\n",
       "        [0., 0., 0.],\n",
       "        [0., 0., 0.]],\n",
       "\n",
       "       [[0., 0., 0.],\n",
       "        [0., 0., 0.],\n",
       "        [0., 0., 0.],\n",
       "        ...,\n",
       "        [0., 0., 0.],\n",
       "        [0., 0., 0.],\n",
       "        [0., 0., 0.]],\n",
       "\n",
       "       [[0., 0., 0.],\n",
       "        [0., 0., 0.],\n",
       "        [0., 0., 0.],\n",
       "        ...,\n",
       "        [0., 0., 0.],\n",
       "        [0., 0., 0.],\n",
       "        [0., 0., 0.]]])"
      ]
     },
     "execution_count": 4,
     "metadata": {},
     "output_type": "execute_result"
    }
   ],
   "source": [
    "image"
   ]
  },
  {
   "cell_type": "code",
   "execution_count": 5,
   "id": "2987e17a",
   "metadata": {},
   "outputs": [],
   "source": [
    "import cv2"
   ]
  },
  {
   "cell_type": "code",
   "execution_count": 6,
   "id": "c691702b",
   "metadata": {},
   "outputs": [],
   "source": [
    "rimage = cv2.rectangle(image, (20,20),(480,480), [0,0,255], 5 )"
   ]
  },
  {
   "cell_type": "code",
   "execution_count": 7,
   "id": "df95ca58",
   "metadata": {},
   "outputs": [],
   "source": [
    "rimage=cv2.circle(rimage,(250,250),30,[0,0,255],-1)\n",
    "rimage=cv2.circle(rimage,(250,250),10,[0,255,0],-1)"
   ]
  },
  {
   "cell_type": "code",
   "execution_count": 8,
   "id": "dd52c338",
   "metadata": {},
   "outputs": [],
   "source": [
    "rimage=cv2.circle(rimage,(120,250),100,[200,0,140],-1)\n",
    "rimage=cv2.circle(rimage,(250,120),100,[200,140,0],-1)\n",
    "rimage=cv2.circle(rimage,(380,250),100,[0,220,180],-1)\n",
    "rimage=cv2.circle(rimage,(250,380),100,[180,0,0],-1)"
   ]
  },
  {
   "cell_type": "code",
   "execution_count": 9,
   "id": "938cb496",
   "metadata": {},
   "outputs": [],
   "source": [
    "rimage=cv2.circle(rimage,(50,50),20,[0,255,0],-1)\n",
    "rimage=cv2.circle(rimage,(50,50),5,[0,0,255],-1)\n",
    "rimage=cv2.circle(rimage,(50,450),20,[0,255,0],-1)\n",
    "rimage=cv2.circle(rimage,(50,450),5,[0,0,255],-1)\n",
    "rimage=cv2.circle(rimage,(450,50),20,[0,255,0],-1)\n",
    "rimage=cv2.circle(rimage,(450,50),5,[0,0,255],-1)\n",
    "rimage=cv2.circle(rimage,(450,450),20,[0,255,0],-1)\n",
    "rimage=cv2.circle(rimage,(450,450),5,[0,0,255],-1)"
   ]
  },
  {
   "cell_type": "code",
   "execution_count": 10,
   "id": "4bb00738",
   "metadata": {},
   "outputs": [],
   "source": [
    "display('Rangoli', rimage)"
   ]
  },
  {
   "cell_type": "code",
   "execution_count": null,
   "id": "239fc6f9",
   "metadata": {},
   "outputs": [],
   "source": []
  },
  {
   "cell_type": "markdown",
   "id": "6f10ba0d",
   "metadata": {},
   "source": [
    "# Combine 2 images Horizontaly and Vertically"
   ]
  },
  {
   "cell_type": "code",
   "execution_count": 11,
   "id": "2202b9ed",
   "metadata": {},
   "outputs": [],
   "source": [
    "nature1=cv2.imread('nature1.jpg')\n",
    "display('Nature1', nature1)"
   ]
  },
  {
   "cell_type": "code",
   "execution_count": null,
   "id": "d646fad6",
   "metadata": {},
   "outputs": [],
   "source": []
  },
  {
   "cell_type": "code",
   "execution_count": 12,
   "id": "725a9527",
   "metadata": {},
   "outputs": [],
   "source": [
    "nature2=cv2.imread('nature2.jpg')\n",
    "display('nature2',nature2)"
   ]
  },
  {
   "cell_type": "code",
   "execution_count": null,
   "id": "76f179b8",
   "metadata": {},
   "outputs": [],
   "source": []
  },
  {
   "cell_type": "code",
   "execution_count": 13,
   "id": "d5cc8b07",
   "metadata": {},
   "outputs": [
    {
     "data": {
      "text/plain": [
       "(340, 582, 3)"
      ]
     },
     "execution_count": 13,
     "metadata": {},
     "output_type": "execute_result"
    }
   ],
   "source": [
    "nature1.shape"
   ]
  },
  {
   "cell_type": "code",
   "execution_count": 14,
   "id": "463481f2",
   "metadata": {},
   "outputs": [],
   "source": [
    "nature2=cv2.resize(nature2,(582,340))"
   ]
  },
  {
   "cell_type": "code",
   "execution_count": 15,
   "id": "2441c091",
   "metadata": {},
   "outputs": [],
   "source": [
    "h_new=numpy.hstack((nature1,nature2))\n",
    "display('Nature',h_new)"
   ]
  },
  {
   "cell_type": "code",
   "execution_count": null,
   "id": "d94222d3",
   "metadata": {},
   "outputs": [],
   "source": []
  },
  {
   "cell_type": "code",
   "execution_count": 16,
   "id": "4dce1359",
   "metadata": {},
   "outputs": [],
   "source": [
    "v_new=numpy.vstack((nature1,nature2))\n",
    "display('Nature',v_new)"
   ]
  },
  {
   "cell_type": "code",
   "execution_count": null,
   "id": "cca44223",
   "metadata": {},
   "outputs": [],
   "source": []
  },
  {
   "cell_type": "code",
   "execution_count": null,
   "id": "9db4639a",
   "metadata": {},
   "outputs": [],
   "source": []
  },
  {
   "cell_type": "markdown",
   "id": "a624c82e",
   "metadata": {},
   "source": [
    "# Just Crop and Swap  "
   ]
  },
  {
   "cell_type": "code",
   "execution_count": 17,
   "id": "822c4e6f",
   "metadata": {},
   "outputs": [],
   "source": [
    "cartoon1=cv2.imread('cartoon1.png')"
   ]
  },
  {
   "cell_type": "code",
   "execution_count": 18,
   "id": "91a1808b",
   "metadata": {},
   "outputs": [
    {
     "data": {
      "text/plain": [
       "(491, 303, 3)"
      ]
     },
     "execution_count": 18,
     "metadata": {},
     "output_type": "execute_result"
    }
   ],
   "source": [
    "cartoon1.shape"
   ]
  },
  {
   "cell_type": "code",
   "execution_count": 19,
   "id": "e4073ea5",
   "metadata": {},
   "outputs": [],
   "source": [
    "display('pic1', cartoon1)"
   ]
  },
  {
   "cell_type": "code",
   "execution_count": 20,
   "id": "587f6338",
   "metadata": {},
   "outputs": [],
   "source": [
    "cartoon2=cv2.imread('cartoon2.png')\n",
    "display('pic2', cartoon2)"
   ]
  },
  {
   "cell_type": "code",
   "execution_count": 21,
   "id": "2512432e",
   "metadata": {},
   "outputs": [
    {
     "data": {
      "text/plain": [
       "(564, 361, 3)"
      ]
     },
     "execution_count": 21,
     "metadata": {},
     "output_type": "execute_result"
    }
   ],
   "source": [
    "cartoon2.shape"
   ]
  },
  {
   "cell_type": "code",
   "execution_count": 22,
   "id": "73185158",
   "metadata": {},
   "outputs": [],
   "source": [
    "#Combining the images\n",
    "\n",
    "re_cartoon1=cv2.resize(cartoon1,(500,400))\n",
    "re_cartoon2=cv2.resize(cartoon2,(500,400))\n",
    "h_combine=numpy.hstack((re_cartoon1,re_cartoon2))    \n",
    "v_combine=numpy.vstack((re_cartoon1,re_cartoon2))"
   ]
  },
  {
   "cell_type": "code",
   "execution_count": 23,
   "id": "2f1f475a",
   "metadata": {},
   "outputs": [],
   "source": [
    "display('h_combine',h_combine )"
   ]
  },
  {
   "cell_type": "code",
   "execution_count": 24,
   "id": "33827c61",
   "metadata": {},
   "outputs": [],
   "source": [
    "display('v_combine',v_combine )"
   ]
  },
  {
   "cell_type": "code",
   "execution_count": null,
   "id": "7f9e1938",
   "metadata": {},
   "outputs": [],
   "source": []
  },
  {
   "cell_type": "code",
   "execution_count": 25,
   "id": "4a88c1fc",
   "metadata": {},
   "outputs": [],
   "source": [
    "crop_c1=cartoon1[100:200,100:180]\n",
    "display('crop_image1',crop_c1)"
   ]
  },
  {
   "cell_type": "code",
   "execution_count": null,
   "id": "f32f25a0",
   "metadata": {},
   "outputs": [],
   "source": []
  },
  {
   "cell_type": "code",
   "execution_count": 26,
   "id": "c7dc80dc",
   "metadata": {},
   "outputs": [],
   "source": [
    "crop_c2=cartoon2[30:200,100:270]\n",
    "display('crop_image2',crop_c2)"
   ]
  },
  {
   "cell_type": "code",
   "execution_count": null,
   "id": "aa6508ca",
   "metadata": {},
   "outputs": [],
   "source": []
  },
  {
   "cell_type": "code",
   "execution_count": 27,
   "id": "b568c40d",
   "metadata": {},
   "outputs": [],
   "source": [
    "re_crop_c2=cv2.resize(crop_c2,(120,100))\n",
    "re_crop_c1=cv2.resize(crop_c1,(170,170))"
   ]
  },
  {
   "cell_type": "code",
   "execution_count": null,
   "id": "da50ca4a",
   "metadata": {},
   "outputs": [],
   "source": []
  },
  {
   "cell_type": "code",
   "execution_count": 28,
   "id": "1b3e0693",
   "metadata": {},
   "outputs": [],
   "source": [
    "cartoon1[95:195,80:200]=re_crop_c2\n",
    "display('pic1',cartoon1)"
   ]
  },
  {
   "cell_type": "code",
   "execution_count": null,
   "id": "4ed79247",
   "metadata": {},
   "outputs": [],
   "source": []
  },
  {
   "cell_type": "code",
   "execution_count": 29,
   "id": "1a542422",
   "metadata": {},
   "outputs": [],
   "source": [
    "cartoon2[30:200,100:270]=re_crop_c1\n",
    "display('pic2',cartoon2)"
   ]
  },
  {
   "cell_type": "code",
   "execution_count": null,
   "id": "5b43df62",
   "metadata": {},
   "outputs": [],
   "source": []
  },
  {
   "cell_type": "code",
   "execution_count": null,
   "id": "ec8e474f",
   "metadata": {},
   "outputs": [],
   "source": []
  }
 ],
 "metadata": {
  "kernelspec": {
   "display_name": "Python 3",
   "language": "python",
   "name": "python3"
  },
  "language_info": {
   "codemirror_mode": {
    "name": "ipython",
    "version": 3
   },
   "file_extension": ".py",
   "mimetype": "text/x-python",
   "name": "python",
   "nbconvert_exporter": "python",
   "pygments_lexer": "ipython3",
   "version": "3.8.8"
  }
 },
 "nbformat": 4,
 "nbformat_minor": 5
}
